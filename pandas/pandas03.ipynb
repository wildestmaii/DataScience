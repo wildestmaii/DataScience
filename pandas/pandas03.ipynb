{
 "cells": [
  {
   "cell_type": "markdown",
   "metadata": {},
   "source": [
    "#https://agenciabrasil.ebc.com.br/direitos-humanos/noticia/2022-05/numero-de-mortes-violentas-de-pessoas-lgbti-subiu-333-em-um-ano\n",
    "\n",
    "#https://g1.globo.com/sp/sao-paulo/noticia/2023/05/11/duas-pessoas-lgbtiqapn-morreram-a-cada-tres-dias-no-brasil-em-2022.ghtml"
   ]
  },
  {
   "cell_type": "code",
   "execution_count": null,
   "metadata": {},
   "outputs": [],
   "source": []
  }
 ],
 "metadata": {
  "language_info": {
   "name": "python"
  },
  "orig_nbformat": 4
 },
 "nbformat": 4,
 "nbformat_minor": 2
}
