{
 "cells": [
  {
   "cell_type": "code",
   "execution_count": null,
   "metadata": {},
   "outputs": [],
   "source": [
    "import pandas as pd\n",
    "import numpy as np\n",
    "import matplotlib.pyplot as plt"
   ]
  },
  {
   "cell_type": "code",
   "execution_count": null,
   "metadata": {},
   "outputs": [],
   "source": [
    "clientes = pd.read_csv('/workspaces/DataScience/dados/1_cliente.csv')\n",
    "geolocalizacao = pd.read_csv('/workspaces/DataScience/dados/2_geolocalizacao.csv')\n",
    "/workspaces/DataScience/dados/3_pedido.csv')\n",
    "/workspaces/DataScience/dados/4_pagamento.csv')\n",
    "/workspaces/DataScience/dados/5_review_clientes.csv')\n",
    "/workspaces/DataScience/dados/6_entrega_pedido.csv')\n",
    "/workspaces/DataScience/dados/7_descricao_produto.csv')\n",
    "/workspaces/DataScience/dados/8_vendedor.csv')\n",
    "/workspaces/DataScience/dados/9_categoria_traduzido.csv')"
   ]
  }
 ],
 "metadata": {
  "language_info": {
   "name": "python"
  }
 },
 "nbformat": 4,
 "nbformat_minor": 2
}
