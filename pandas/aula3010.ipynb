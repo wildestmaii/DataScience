{
 "cells": [
  {
   "cell_type": "markdown",
   "metadata": {},
   "source": [
    "\n",
    "- representação das métricas de precisão e médias do modelo\n",
    "- treinamento usando dataframe reserva. "
   ]
  },
  {
   "cell_type": "markdown",
   "metadata": {},
   "source": [
    "métricas para avaliação:\n",
    "- accuracy\n",
    "- recall\n",
    "- MAE(mean absolute error)\n",
    "\n",
    "ferramenta kimmie para análise de dados, construção de relatórios e integração de dados\n",
    "https://www.knime.com/\n",
    "https://medium.com/@Academia_KRJ/o-que-%C3%A9-o-knime-977770a6f697"
   ]
  },
  {
   "cell_type": "markdown",
   "metadata": {},
   "source": [
    "https://github.com/wendelmarques/materiais-de-estudos-sobre-data-science-deep-machine-learning"
   ]
  }
 ],
 "metadata": {
  "language_info": {
   "name": "python"
  }
 },
 "nbformat": 4,
 "nbformat_minor": 2
}
