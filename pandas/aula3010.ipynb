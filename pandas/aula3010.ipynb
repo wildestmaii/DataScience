{
 "cells": [
  {
   "cell_type": "markdown",
   "metadata": {},
   "source": [
    "\n",
    "- representação das métricas de precisão e médias do modelo\n",
    "- treinamento usando dataframe reserva. "
   ]
  },
  {
   "cell_type": "markdown",
   "metadata": {},
   "source": [
    "https://github.com/wendelmarques/materiais-de-estudos-sobre-data-science-deep-machine-learning"
   ]
  }
 ],
 "metadata": {
  "language_info": {
   "name": "python"
  }
 },
 "nbformat": 4,
 "nbformat_minor": 2
}
