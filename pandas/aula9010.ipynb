{
 "cells": [
  {
   "cell_type": "code",
   "execution_count": null,
   "metadata": {},
   "outputs": [],
   "source": [
    "dados = [gripado1, gripado2, gripado3, gripado4, alergico1, alergico2, alergico3, alergico4]"
   ]
  },
  {
   "cell_type": "code",
   "execution_count": 1,
   "metadata": {},
   "outputs": [
    {
     "ename": "ImportError",
     "evalue": "cannot import name 'linearSVC' from 'sklearn.svm' (/home/codespace/.local/lib/python3.10/site-packages/sklearn/svm/__init__.py)",
     "output_type": "error",
     "traceback": [
      "\u001b[0;31m---------------------------------------------------------------------------\u001b[0m",
      "\u001b[0;31mImportError\u001b[0m                               Traceback (most recent call last)",
      "\u001b[1;32m/workspaces/DataScience/pandas/aula9010.ipynb Cell 2\u001b[0m line \u001b[0;36m1\n\u001b[0;32m----> <a href='vscode-notebook-cell://codespaces%2Bfictional-space-train-4wx7pjgwpjpcjrj5/workspaces/DataScience/pandas/aula9010.ipynb#W1sdnNjb2RlLXJlbW90ZQ%3D%3D?line=0'>1</a>\u001b[0m \u001b[39mfrom\u001b[39;00m \u001b[39msklearn\u001b[39;00m\u001b[39m.\u001b[39;00m\u001b[39msvm\u001b[39;00m \u001b[39mimport\u001b[39;00m linearSVC\n",
      "\u001b[0;31mImportError\u001b[0m: cannot import name 'linearSVC' from 'sklearn.svm' (/home/codespace/.local/lib/python3.10/site-packages/sklearn/svm/__init__.py)"
     ]
    }
   ],
   "source": [
    "from sklearn.svm import linearSVC"
   ]
  },
  {
   "cell_type": "markdown",
   "metadata": {},
   "source": []
  },
  {
   "cell_type": "code",
   "execution_count": null,
   "metadata": {},
   "outputs": [],
   "source": [
    "modelo = linearSVC\n",
    "modelo.fit(dados, categorias)"
   ]
  },
  {
   "cell_type": "markdown",
   "metadata": {},
   "source": []
  },
  {
   "cell_type": "code",
   "execution_count": null,
   "metadata": {},
   "outputs": [],
   "source": [
    "paciente1 = [0, 1, 0, 1]\n",
    "paciente2 = [0, 0, 0, 0]\n",
    "paciente3 = [1, 1, 1, 1]\n",
    "paciente4 = [0, 1, 0, 1]\n",
    "\n",
    "dados_teste = [paciente1, paciente2,\n",
    "               paciente3, paciente4]"
   ]
  },
  {
   "cell_type": "markdown",
   "metadata": {},
   "source": [
    "*testando*"
   ]
  },
  {
   "cell_type": "code",
   "execution_count": null,
   "metadata": {},
   "outputs": [],
   "source": [
    "modelo.predict(dado_teste)\n",
    "\n",
    "array([1, 0, 1, 1])"
   ]
  },
  {
   "cell_type": "markdown",
   "metadata": {},
   "source": [
    "*dado um novo paciente, vamos avaliar a possibilidade de ele estar gripado*"
   ]
  },
  {
   "cell_type": "code",
   "execution_count": null,
   "metadata": {},
   "outputs": [],
   "source": [
    "novo_paciente = [0, 1, 0, 0]\n",
    "modelo.predict([novo_paciente])"
   ]
  },
  {
   "cell_type": "code",
   "execution_count": null,
   "metadata": {},
   "outputs": [],
   "source": [
    "if (modelo.predict([novo_paciente]) == 0):\n",
    "    print('paciente potencialmente alérgico')\n",
    "else:\n",
    "    print('Paciente potencialmente gripado')"
   ]
  }
 ],
 "metadata": {
  "kernelspec": {
   "display_name": "Python 3",
   "language": "python",
   "name": "python3"
  },
  "language_info": {
   "codemirror_mode": {
    "name": "ipython",
    "version": 3
   },
   "file_extension": ".py",
   "mimetype": "text/x-python",
   "name": "python",
   "nbconvert_exporter": "python",
   "pygments_lexer": "ipython3",
   "version": "3.10.8"
  }
 },
 "nbformat": 4,
 "nbformat_minor": 2
}
