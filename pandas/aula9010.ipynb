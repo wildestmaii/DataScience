{
 "cells": [
  {
   "cell_type": "code",
   "execution_count": 2,
   "metadata": {},
   "outputs": [],
   "source": [
    "# quais as features, ou seja\n",
    "#as características dos pacientes?\n",
    "# tossindo?\n",
    "# falta de ar?\n",
    "# febre?\n",
    "# vamos usar 0 para não e 1 para sim\n",
    "\n",
    "gripado1 = [1, 1, 1, 1]\n",
    "gripado2 = [0, 1, 0, 1]\n",
    "gripado3 = [1, 1, 0, 1]\n",
    "gripado4 = [1, 1, 0, 1]\n",
    "\n",
    "alergico1 = [1, 1, 0, 0]\n",
    "alergico2 = [0, 1, 0, 0]\n",
    "alergico3 = [1, 0, 0, 0]\n",
    "alergico4 = [0, 1, 1, 0]"
   ]
  },
  {
   "cell_type": "code",
   "execution_count": 3,
   "metadata": {},
   "outputs": [],
   "source": [
    "dados = [gripado1, gripado2, gripado3, gripado4,\n",
    "         alergico1, alergico2, alergico3, alergico4]\n",
    "\n",
    "# categoria 1 = gripado; categoria 0 = alérgico\n",
    "categorias = [1,1,1,1,0,0,0,0]"
   ]
  },
  {
   "cell_type": "code",
   "execution_count": 11,
   "metadata": {},
   "outputs": [],
   "source": [
    "from linearsvc import linearsvc"
   ]
  },
  {
   "cell_type": "markdown",
   "metadata": {},
   "source": []
  },
  {
   "cell_type": "code",
   "execution_count": 14,
   "metadata": {},
   "outputs": [
    {
     "ename": "AttributeError",
     "evalue": "module 'linearsvc' has no attribute 'fit'",
     "output_type": "error",
     "traceback": [
      "\u001b[0;31m---------------------------------------------------------------------------\u001b[0m",
      "\u001b[0;31mAttributeError\u001b[0m                            Traceback (most recent call last)",
      "\u001b[1;32m/workspaces/DataScience/pandas/aula9010.ipynb Cell 5\u001b[0m line \u001b[0;36m2\n\u001b[1;32m      <a href='vscode-notebook-cell://codespaces%2Bfictional-space-train-4wx7pjgwpjpcjrj5/workspaces/DataScience/pandas/aula9010.ipynb#W2sdnNjb2RlLXJlbW90ZQ%3D%3D?line=0'>1</a>\u001b[0m modelo \u001b[39m=\u001b[39m linearsvc\n\u001b[0;32m----> <a href='vscode-notebook-cell://codespaces%2Bfictional-space-train-4wx7pjgwpjpcjrj5/workspaces/DataScience/pandas/aula9010.ipynb#W2sdnNjb2RlLXJlbW90ZQ%3D%3D?line=1'>2</a>\u001b[0m modelo\u001b[39m.\u001b[39;49mfit(dados, categorias)\n",
      "\u001b[0;31mAttributeError\u001b[0m: module 'linearsvc' has no attribute 'fit'"
     ]
    }
   ],
   "source": [
    "modelo = linearsvc\n",
    "modelo.fit(dados, categorias)"
   ]
  },
  {
   "cell_type": "markdown",
   "metadata": {},
   "source": []
  },
  {
   "cell_type": "code",
   "execution_count": 15,
   "metadata": {},
   "outputs": [],
   "source": [
    "paciente1 = [0, 1, 0, 1]\n",
    "paciente2 = [0, 0, 0, 0]\n",
    "paciente3 = [1, 1, 1, 1]\n",
    "paciente4 = [0, 1, 0, 1]\n",
    "\n",
    "dados_teste = [paciente1, paciente2,\n",
    "               paciente3, paciente4]"
   ]
  },
  {
   "cell_type": "markdown",
   "metadata": {},
   "source": [
    "*testando*"
   ]
  },
  {
   "cell_type": "code",
   "execution_count": 16,
   "metadata": {},
   "outputs": [
    {
     "ename": "AttributeError",
     "evalue": "module 'linearsvc' has no attribute 'predict'",
     "output_type": "error",
     "traceback": [
      "\u001b[0;31m---------------------------------------------------------------------------\u001b[0m",
      "\u001b[0;31mAttributeError\u001b[0m                            Traceback (most recent call last)",
      "\u001b[1;32m/workspaces/DataScience/pandas/aula9010.ipynb Cell 9\u001b[0m line \u001b[0;36m1\n\u001b[0;32m----> <a href='vscode-notebook-cell://codespaces%2Bfictional-space-train-4wx7pjgwpjpcjrj5/workspaces/DataScience/pandas/aula9010.ipynb#W4sdnNjb2RlLXJlbW90ZQ%3D%3D?line=0'>1</a>\u001b[0m modelo\u001b[39m.\u001b[39;49mpredict(dado_teste)\n\u001b[1;32m      <a href='vscode-notebook-cell://codespaces%2Bfictional-space-train-4wx7pjgwpjpcjrj5/workspaces/DataScience/pandas/aula9010.ipynb#W4sdnNjb2RlLXJlbW90ZQ%3D%3D?line=2'>3</a>\u001b[0m array([\u001b[39m1\u001b[39m, \u001b[39m0\u001b[39m, \u001b[39m1\u001b[39m, \u001b[39m1\u001b[39m])\n",
      "\u001b[0;31mAttributeError\u001b[0m: module 'linearsvc' has no attribute 'predict'"
     ]
    }
   ],
   "source": [
    "modelo.predict(dado_teste)\n",
    "\n",
    "array([1, 0, 1, 1])"
   ]
  },
  {
   "cell_type": "markdown",
   "metadata": {},
   "source": [
    "*dado um novo paciente, vamos avaliar a possibilidade de ele estar gripado*"
   ]
  },
  {
   "cell_type": "code",
   "execution_count": null,
   "metadata": {},
   "outputs": [],
   "source": [
    "novo_paciente = [0, 1, 0, 0]\n",
    "modelo.predict([novo_paciente])"
   ]
  },
  {
   "cell_type": "code",
   "execution_count": null,
   "metadata": {},
   "outputs": [],
   "source": [
    "if (modelo.predict([novo_paciente]) == 0):\n",
    "    print('paciente potencialmente alérgico')\n",
    "else:\n",
    "    print('Paciente potencialmente gripado')"
   ]
  },
  {
   "cell_type": "code",
   "execution_count": null,
   "metadata": {},
   "outputs": [],
   "source": [
    "predicoes = modelo.predict(dados_teste)"
   ]
  },
  {
   "cell_type": "code",
   "execution_count": null,
   "metadata": {},
   "outputs": [],
   "source": [
    "exames = [1, 0, 1, 0]"
   ]
  },
  {
   "cell_type": "code",
   "execution_count": null,
   "metadata": {},
   "outputs": [],
   "source": [
    "predicoes == exames"
   ]
  },
  {
   "cell_type": "code",
   "execution_count": null,
   "metadata": {},
   "outputs": [],
   "source": [
    "total_acertos = (predicoes == exames).sum()\n",
    "total_acertos"
   ]
  },
  {
   "cell_type": "code",
   "execution_count": null,
   "metadata": {},
   "outputs": [],
   "source": [
    "total_predicoes = len(dados_teste)\n",
    "total_predicoes"
   ]
  },
  {
   "cell_type": "code",
   "execution_count": null,
   "metadata": {},
   "outputs": [],
   "source": [
    "#taxa de sucesso?\n",
    "taxa_sucesso = total_acertos / total_predicoes * 100\n",
    "taxa_sucesso"
   ]
  },
  {
   "cell_type": "code",
   "execution_count": null,
   "metadata": {},
   "outputs": [],
   "source": [
    "print('A taxa de sucesso do seu modelo preditivo foi de ', taxa_sucesso '%. ')"
   ]
  }
 ],
 "metadata": {
  "kernelspec": {
   "display_name": "Python 3",
   "language": "python",
   "name": "python3"
  },
  "language_info": {
   "codemirror_mode": {
    "name": "ipython",
    "version": 3
   },
   "file_extension": ".py",
   "mimetype": "text/x-python",
   "name": "python",
   "nbconvert_exporter": "python",
   "pygments_lexer": "ipython3",
   "version": "3.10.8"
  }
 },
 "nbformat": 4,
 "nbformat_minor": 2
}
